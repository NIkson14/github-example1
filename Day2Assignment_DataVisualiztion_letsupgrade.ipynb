{
  "nbformat": 4,
  "nbformat_minor": 0,
  "metadata": {
    "colab": {
      "name": "Day2Assignment_DataVisualiztion_letsupgrade.ipynb",
      "provenance": []
    },
    "kernelspec": {
      "name": "python3",
      "display_name": "Python 3"
    },
    "language_info": {
      "name": "python"
    }
  },
  "cells": [
    {
      "cell_type": "code",
      "metadata": {
        "id": "93luQmqX1UtO"
      },
      "source": [
        "import numpy as np\n",
        "import matplotlib.pyplot as plt\n",
        "import pandas as pd\n",
        "import seaborn as sns\n",
        "%matplotlib inline\n",
        "from numpy.random import randn,randint,uniform,sample"
      ],
      "execution_count": 2,
      "outputs": []
    },
    {
      "cell_type": "code",
      "metadata": {
        "colab": {
          "base_uri": "https://localhost:8080/",
          "height": 359
        },
        "id": "OQUOnPkM1Mqr",
        "outputId": "ab94d63b-5003-4f16-ff69-152cbf972849"
      },
      "source": [
        "df = pd.DataFrame(randn(10,4),columns=['a','b','c','d'])\n",
        "df"
      ],
      "execution_count": 3,
      "outputs": [
        {
          "output_type": "execute_result",
          "data": {
            "text/html": [
              "<div>\n",
              "<style scoped>\n",
              "    .dataframe tbody tr th:only-of-type {\n",
              "        vertical-align: middle;\n",
              "    }\n",
              "\n",
              "    .dataframe tbody tr th {\n",
              "        vertical-align: top;\n",
              "    }\n",
              "\n",
              "    .dataframe thead th {\n",
              "        text-align: right;\n",
              "    }\n",
              "</style>\n",
              "<table border=\"1\" class=\"dataframe\">\n",
              "  <thead>\n",
              "    <tr style=\"text-align: right;\">\n",
              "      <th></th>\n",
              "      <th>a</th>\n",
              "      <th>b</th>\n",
              "      <th>c</th>\n",
              "      <th>d</th>\n",
              "    </tr>\n",
              "  </thead>\n",
              "  <tbody>\n",
              "    <tr>\n",
              "      <th>0</th>\n",
              "      <td>0.136982</td>\n",
              "      <td>0.475287</td>\n",
              "      <td>-0.132463</td>\n",
              "      <td>2.226011</td>\n",
              "    </tr>\n",
              "    <tr>\n",
              "      <th>1</th>\n",
              "      <td>-0.228663</td>\n",
              "      <td>-0.467338</td>\n",
              "      <td>-0.848534</td>\n",
              "      <td>-0.718236</td>\n",
              "    </tr>\n",
              "    <tr>\n",
              "      <th>2</th>\n",
              "      <td>-1.003123</td>\n",
              "      <td>1.315349</td>\n",
              "      <td>-0.621839</td>\n",
              "      <td>0.095143</td>\n",
              "    </tr>\n",
              "    <tr>\n",
              "      <th>3</th>\n",
              "      <td>0.111193</td>\n",
              "      <td>0.739059</td>\n",
              "      <td>0.167138</td>\n",
              "      <td>0.053222</td>\n",
              "    </tr>\n",
              "    <tr>\n",
              "      <th>4</th>\n",
              "      <td>-1.962127</td>\n",
              "      <td>0.742433</td>\n",
              "      <td>0.904034</td>\n",
              "      <td>0.028547</td>\n",
              "    </tr>\n",
              "    <tr>\n",
              "      <th>5</th>\n",
              "      <td>0.473154</td>\n",
              "      <td>-0.754054</td>\n",
              "      <td>-0.794367</td>\n",
              "      <td>0.832356</td>\n",
              "    </tr>\n",
              "    <tr>\n",
              "      <th>6</th>\n",
              "      <td>-1.277095</td>\n",
              "      <td>-1.523453</td>\n",
              "      <td>0.498363</td>\n",
              "      <td>-0.884579</td>\n",
              "    </tr>\n",
              "    <tr>\n",
              "      <th>7</th>\n",
              "      <td>-0.976128</td>\n",
              "      <td>0.484705</td>\n",
              "      <td>0.019562</td>\n",
              "      <td>-2.502485</td>\n",
              "    </tr>\n",
              "    <tr>\n",
              "      <th>8</th>\n",
              "      <td>1.034900</td>\n",
              "      <td>-0.962046</td>\n",
              "      <td>1.499578</td>\n",
              "      <td>1.094401</td>\n",
              "    </tr>\n",
              "    <tr>\n",
              "      <th>9</th>\n",
              "      <td>-0.002898</td>\n",
              "      <td>-0.502141</td>\n",
              "      <td>0.440017</td>\n",
              "      <td>-0.059596</td>\n",
              "    </tr>\n",
              "  </tbody>\n",
              "</table>\n",
              "</div>"
            ],
            "text/plain": [
              "          a         b         c         d\n",
              "0  0.136982  0.475287 -0.132463  2.226011\n",
              "1 -0.228663 -0.467338 -0.848534 -0.718236\n",
              "2 -1.003123  1.315349 -0.621839  0.095143\n",
              "3  0.111193  0.739059  0.167138  0.053222\n",
              "4 -1.962127  0.742433  0.904034  0.028547\n",
              "5  0.473154 -0.754054 -0.794367  0.832356\n",
              "6 -1.277095 -1.523453  0.498363 -0.884579\n",
              "7 -0.976128  0.484705  0.019562 -2.502485\n",
              "8  1.034900 -0.962046  1.499578  1.094401\n",
              "9 -0.002898 -0.502141  0.440017 -0.059596"
            ]
          },
          "metadata": {
            "tags": []
          },
          "execution_count": 3
        }
      ]
    },
    {
      "cell_type": "code",
      "metadata": {
        "colab": {
          "base_uri": "https://localhost:8080/",
          "height": 621
        },
        "id": "86Kb7_Kt1a9f",
        "outputId": "4de9624b-f461-473e-c0a8-d52eceee10c7"
      },
      "source": [
        "df.plot(kind='bar',width=(3),figsize=(12,10))\n",
        "plt.title('Bar Graph')"
      ],
      "execution_count": 4,
      "outputs": [
        {
          "output_type": "execute_result",
          "data": {
            "text/plain": [
              "Text(0.5, 1.0, 'Bar Graph')"
            ]
          },
          "metadata": {
            "tags": []
          },
          "execution_count": 4
        },
        {
          "output_type": "display_data",
          "data": {
            "image/png": "[encoded data removed]",
            "text/plain": [
              "<Figure size 864x720 with 1 Axes>"
            ]
          },
          "metadata": {
            "tags": [],
            "needs_background": "light"
          }
        }
      ]
    }
  ]
}